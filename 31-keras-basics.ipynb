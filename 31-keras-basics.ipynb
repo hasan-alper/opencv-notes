{
 "cells": [
  {
   "attachments": {},
   "cell_type": "markdown",
   "metadata": {},
   "source": [
    "# Keras Basics"
   ]
  },
  {
   "cell_type": "code",
   "execution_count": 1,
   "metadata": {},
   "outputs": [],
   "source": [
    "import numpy as np"
   ]
  },
  {
   "attachments": {},
   "cell_type": "markdown",
   "metadata": {},
   "source": [
    "### Reading in the Data Set"
   ]
  },
  {
   "cell_type": "code",
   "execution_count": 2,
   "metadata": {},
   "outputs": [],
   "source": [
    "data = np.genfromtxt(\"DATA/bank_note_data.txt\", delimiter=\",\")"
   ]
  },
  {
   "cell_type": "code",
   "execution_count": 3,
   "metadata": {},
   "outputs": [
    {
     "data": {
      "text/plain": [
       "array([[  3.6216 ,   8.6661 ,  -2.8073 ,  -0.44699,   0.     ],\n",
       "       [  4.5459 ,   8.1674 ,  -2.4586 ,  -1.4621 ,   0.     ],\n",
       "       [  3.866  ,  -2.6383 ,   1.9242 ,   0.10645,   0.     ],\n",
       "       ...,\n",
       "       [ -3.7503 , -13.4586 ,  17.5932 ,  -2.7771 ,   1.     ],\n",
       "       [ -3.5637 ,  -8.3827 ,  12.393  ,  -1.2823 ,   1.     ],\n",
       "       [ -2.5419 ,  -0.65804,   2.6842 ,   1.1952 ,   1.     ]])"
      ]
     },
     "execution_count": 3,
     "metadata": {},
     "output_type": "execute_result"
    }
   ],
   "source": [
    "data"
   ]
  },
  {
   "cell_type": "code",
   "execution_count": 4,
   "metadata": {},
   "outputs": [],
   "source": [
    "X = data[:, 0:4]\n",
    "y = data[:, 4]"
   ]
  },
  {
   "attachments": {},
   "cell_type": "markdown",
   "metadata": {},
   "source": [
    "### Split the Data into Training and Test"
   ]
  },
  {
   "cell_type": "code",
   "execution_count": 5,
   "metadata": {},
   "outputs": [],
   "source": [
    "from sklearn.model_selection import train_test_split\n",
    "X_train, X_test, y_train, y_test = train_test_split(X, y, test_size=0.33, random_state=42)"
   ]
  },
  {
   "attachments": {},
   "cell_type": "markdown",
   "metadata": {},
   "source": [
    "### Standardizing the Data"
   ]
  },
  {
   "cell_type": "code",
   "execution_count": 6,
   "metadata": {},
   "outputs": [],
   "source": [
    "from sklearn.preprocessing import MinMaxScaler\n",
    "scaler_object = MinMaxScaler()\n",
    "\n",
    "scaler_object.fit(X_train)\n",
    "scaled_X_train = scaler_object.transform(X_train)\n",
    "scaled_X_test = scaler_object.transform(X_test)"
   ]
  },
  {
   "attachments": {},
   "cell_type": "markdown",
   "metadata": {},
   "source": [
    "### Building the Network with Keras"
   ]
  },
  {
   "cell_type": "code",
   "execution_count": 7,
   "metadata": {},
   "outputs": [],
   "source": [
    "from keras.models import Sequential\n",
    "from keras.layers import Dense"
   ]
  },
  {
   "cell_type": "code",
   "execution_count": 8,
   "metadata": {},
   "outputs": [],
   "source": [
    "model = Sequential()\n",
    "\n",
    "model.add(Dense(4, input_dim=4, activation=\"relu\"))\n",
    "model.add(Dense(8, activation=\"relu\"))\n",
    "model.add(Dense(1, activation=\"sigmoid\"))"
   ]
  },
  {
   "attachments": {},
   "cell_type": "markdown",
   "metadata": {},
   "source": [
    "### Compile Model"
   ]
  },
  {
   "cell_type": "code",
   "execution_count": 9,
   "metadata": {},
   "outputs": [],
   "source": [
    "model.compile(loss=\"binary_crossentropy\", optimizer=\"adam\", metrics=[\"accuracy\"])"
   ]
  },
  {
   "attachments": {},
   "cell_type": "markdown",
   "metadata": {},
   "source": [
    "### Fit the Model"
   ]
  },
  {
   "cell_type": "code",
   "execution_count": 10,
   "metadata": {},
   "outputs": [
    {
     "name": "stdout",
     "output_type": "stream",
     "text": [
      "Epoch 1/50\n"
     ]
    },
    {
     "name": "stderr",
     "output_type": "stream",
     "text": [
      "2023-02-23 16:01:59.658279: W tensorflow/core/platform/profile_utils/cpu_utils.cc:128] Failed to get CPU frequency: 0 Hz\n"
     ]
    },
    {
     "name": "stdout",
     "output_type": "stream",
     "text": [
      "29/29 - 0s - loss: 0.6968 - accuracy: 0.4505 - 395ms/epoch - 14ms/step\n",
      "Epoch 2/50\n",
      "29/29 - 0s - loss: 0.6817 - accuracy: 0.4505 - 17ms/epoch - 581us/step\n",
      "Epoch 3/50\n",
      "29/29 - 0s - loss: 0.6698 - accuracy: 0.5441 - 17ms/epoch - 597us/step\n",
      "Epoch 4/50\n",
      "29/29 - 0s - loss: 0.6583 - accuracy: 0.6953 - 15ms/epoch - 527us/step\n",
      "Epoch 5/50\n",
      "29/29 - 0s - loss: 0.6428 - accuracy: 0.6964 - 15ms/epoch - 509us/step\n",
      "Epoch 6/50\n",
      "29/29 - 0s - loss: 0.6286 - accuracy: 0.7291 - 15ms/epoch - 506us/step\n",
      "Epoch 7/50\n",
      "29/29 - 0s - loss: 0.6159 - accuracy: 0.7563 - 15ms/epoch - 507us/step\n",
      "Epoch 8/50\n",
      "29/29 - 0s - loss: 0.6025 - accuracy: 0.7628 - 15ms/epoch - 503us/step\n",
      "Epoch 9/50\n",
      "29/29 - 0s - loss: 0.5892 - accuracy: 0.7748 - 15ms/epoch - 506us/step\n",
      "Epoch 10/50\n",
      "29/29 - 0s - loss: 0.5750 - accuracy: 0.7845 - 15ms/epoch - 507us/step\n",
      "Epoch 11/50\n",
      "29/29 - 0s - loss: 0.5600 - accuracy: 0.7867 - 14ms/epoch - 497us/step\n",
      "Epoch 12/50\n",
      "29/29 - 0s - loss: 0.5447 - accuracy: 0.7943 - 15ms/epoch - 510us/step\n",
      "Epoch 13/50\n",
      "29/29 - 0s - loss: 0.5283 - accuracy: 0.8107 - 15ms/epoch - 534us/step\n",
      "Epoch 14/50\n",
      "29/29 - 0s - loss: 0.5105 - accuracy: 0.8194 - 15ms/epoch - 521us/step\n",
      "Epoch 15/50\n",
      "29/29 - 0s - loss: 0.4923 - accuracy: 0.8324 - 15ms/epoch - 511us/step\n",
      "Epoch 16/50\n",
      "29/29 - 0s - loss: 0.4740 - accuracy: 0.8379 - 15ms/epoch - 515us/step\n",
      "Epoch 17/50\n",
      "29/29 - 0s - loss: 0.4553 - accuracy: 0.8422 - 14ms/epoch - 483us/step\n",
      "Epoch 18/50\n",
      "29/29 - 0s - loss: 0.4366 - accuracy: 0.8531 - 14ms/epoch - 488us/step\n",
      "Epoch 19/50\n",
      "29/29 - 0s - loss: 0.4191 - accuracy: 0.8640 - 14ms/epoch - 493us/step\n",
      "Epoch 20/50\n",
      "29/29 - 0s - loss: 0.4024 - accuracy: 0.8651 - 15ms/epoch - 505us/step\n",
      "Epoch 21/50\n",
      "29/29 - 0s - loss: 0.3856 - accuracy: 0.8749 - 15ms/epoch - 509us/step\n",
      "Epoch 22/50\n",
      "29/29 - 0s - loss: 0.3700 - accuracy: 0.8792 - 15ms/epoch - 505us/step\n",
      "Epoch 23/50\n",
      "29/29 - 0s - loss: 0.3545 - accuracy: 0.8781 - 14ms/epoch - 492us/step\n",
      "Epoch 24/50\n",
      "29/29 - 0s - loss: 0.3408 - accuracy: 0.8890 - 14ms/epoch - 493us/step\n",
      "Epoch 25/50\n",
      "29/29 - 0s - loss: 0.3272 - accuracy: 0.8879 - 14ms/epoch - 494us/step\n",
      "Epoch 26/50\n",
      "29/29 - 0s - loss: 0.3142 - accuracy: 0.8945 - 15ms/epoch - 508us/step\n",
      "Epoch 27/50\n",
      "29/29 - 0s - loss: 0.3025 - accuracy: 0.8945 - 15ms/epoch - 506us/step\n",
      "Epoch 28/50\n",
      "29/29 - 0s - loss: 0.2894 - accuracy: 0.8999 - 14ms/epoch - 488us/step\n",
      "Epoch 29/50\n",
      "29/29 - 0s - loss: 0.2777 - accuracy: 0.9042 - 14ms/epoch - 494us/step\n",
      "Epoch 30/50\n",
      "29/29 - 0s - loss: 0.2671 - accuracy: 0.9108 - 14ms/epoch - 492us/step\n",
      "Epoch 31/50\n",
      "29/29 - 0s - loss: 0.2563 - accuracy: 0.9140 - 14ms/epoch - 489us/step\n",
      "Epoch 32/50\n",
      "29/29 - 0s - loss: 0.2458 - accuracy: 0.9260 - 15ms/epoch - 505us/step\n",
      "Epoch 33/50\n",
      "29/29 - 0s - loss: 0.2353 - accuracy: 0.9217 - 14ms/epoch - 496us/step\n",
      "Epoch 34/50\n",
      "29/29 - 0s - loss: 0.2256 - accuracy: 0.9314 - 14ms/epoch - 495us/step\n",
      "Epoch 35/50\n",
      "29/29 - 0s - loss: 0.2164 - accuracy: 0.9336 - 14ms/epoch - 492us/step\n",
      "Epoch 36/50\n",
      "29/29 - 0s - loss: 0.2071 - accuracy: 0.9391 - 15ms/epoch - 509us/step\n",
      "Epoch 37/50\n",
      "29/29 - 0s - loss: 0.1991 - accuracy: 0.9467 - 14ms/epoch - 495us/step\n",
      "Epoch 38/50\n",
      "29/29 - 0s - loss: 0.1916 - accuracy: 0.9467 - 14ms/epoch - 494us/step\n",
      "Epoch 39/50\n",
      "29/29 - 0s - loss: 0.1836 - accuracy: 0.9445 - 14ms/epoch - 495us/step\n",
      "Epoch 40/50\n",
      "29/29 - 0s - loss: 0.1772 - accuracy: 0.9532 - 14ms/epoch - 494us/step\n",
      "Epoch 41/50\n",
      "29/29 - 0s - loss: 0.1690 - accuracy: 0.9565 - 14ms/epoch - 485us/step\n",
      "Epoch 42/50\n",
      "29/29 - 0s - loss: 0.1624 - accuracy: 0.9587 - 14ms/epoch - 487us/step\n",
      "Epoch 43/50\n",
      "29/29 - 0s - loss: 0.1573 - accuracy: 0.9565 - 14ms/epoch - 484us/step\n",
      "Epoch 44/50\n",
      "29/29 - 0s - loss: 0.1502 - accuracy: 0.9619 - 14ms/epoch - 481us/step\n",
      "Epoch 45/50\n",
      "29/29 - 0s - loss: 0.1447 - accuracy: 0.9695 - 14ms/epoch - 493us/step\n",
      "Epoch 46/50\n",
      "29/29 - 0s - loss: 0.1394 - accuracy: 0.9684 - 15ms/epoch - 508us/step\n",
      "Epoch 47/50\n",
      "29/29 - 0s - loss: 0.1342 - accuracy: 0.9706 - 15ms/epoch - 510us/step\n",
      "Epoch 48/50\n",
      "29/29 - 0s - loss: 0.1287 - accuracy: 0.9728 - 14ms/epoch - 476us/step\n",
      "Epoch 49/50\n",
      "29/29 - 0s - loss: 0.1257 - accuracy: 0.9717 - 14ms/epoch - 498us/step\n",
      "Epoch 50/50\n",
      "29/29 - 0s - loss: 0.1174 - accuracy: 0.9761 - 14ms/epoch - 490us/step\n"
     ]
    },
    {
     "data": {
      "text/plain": [
       "<keras.callbacks.History at 0x1631c5f60>"
      ]
     },
     "execution_count": 10,
     "metadata": {},
     "output_type": "execute_result"
    }
   ],
   "source": [
    "model.fit(scaled_X_train, y_train, epochs=50, verbose=2)"
   ]
  },
  {
   "attachments": {},
   "cell_type": "markdown",
   "metadata": {},
   "source": [
    "### Evaluating Model Performance"
   ]
  },
  {
   "cell_type": "code",
   "execution_count": 11,
   "metadata": {},
   "outputs": [
    {
     "name": "stdout",
     "output_type": "stream",
     "text": [
      "15/15 [==============================] - 0s 559us/step - loss: 0.1084 - accuracy: 0.9845\n"
     ]
    },
    {
     "data": {
      "text/plain": [
       "[0.10835742950439453, 0.9845474362373352]"
      ]
     },
     "execution_count": 11,
     "metadata": {},
     "output_type": "execute_result"
    }
   ],
   "source": [
    "model.evaluate(x=scaled_X_test, y=y_test)"
   ]
  },
  {
   "cell_type": "code",
   "execution_count": 12,
   "metadata": {},
   "outputs": [
    {
     "name": "stdout",
     "output_type": "stream",
     "text": [
      "15/15 [==============================] - 0s 481us/step\n"
     ]
    },
    {
     "data": {
      "text/plain": [
       "array([[254,   3],\n",
       "       [  4, 192]])"
      ]
     },
     "execution_count": 12,
     "metadata": {},
     "output_type": "execute_result"
    }
   ],
   "source": [
    "from sklearn.metrics import confusion_matrix,classification_report\n",
    "predictions = (model.predict(scaled_X_test) > 0.5).astype(\"int32\")\n",
    "confusion_matrix(y_test, predictions)"
   ]
  },
  {
   "cell_type": "code",
   "execution_count": 13,
   "metadata": {},
   "outputs": [
    {
     "name": "stdout",
     "output_type": "stream",
     "text": [
      "              precision    recall  f1-score   support\n",
      "\n",
      "         0.0       0.98      0.99      0.99       257\n",
      "         1.0       0.98      0.98      0.98       196\n",
      "\n",
      "    accuracy                           0.98       453\n",
      "   macro avg       0.98      0.98      0.98       453\n",
      "weighted avg       0.98      0.98      0.98       453\n",
      "\n"
     ]
    }
   ],
   "source": [
    "print(classification_report(y_test, predictions))"
   ]
  },
  {
   "attachments": {},
   "cell_type": "markdown",
   "metadata": {},
   "source": [
    "### Saving and Loading Models"
   ]
  },
  {
   "cell_type": "code",
   "execution_count": 14,
   "metadata": {},
   "outputs": [],
   "source": [
    "model.save('myfirstmodel.h5')"
   ]
  }
 ],
 "metadata": {
  "kernelspec": {
   "display_name": "base",
   "language": "python",
   "name": "python3"
  },
  "language_info": {
   "codemirror_mode": {
    "name": "ipython",
    "version": 3
   },
   "file_extension": ".py",
   "mimetype": "text/x-python",
   "name": "python",
   "nbconvert_exporter": "python",
   "pygments_lexer": "ipython3",
   "version": "3.10.9"
  },
  "orig_nbformat": 4,
  "vscode": {
   "interpreter": {
    "hash": "f8f2de12006af2ac372197d752de4a70b5f29165a2e6348bb37f21372b77abf2"
   }
  }
 },
 "nbformat": 4,
 "nbformat_minor": 2
}
