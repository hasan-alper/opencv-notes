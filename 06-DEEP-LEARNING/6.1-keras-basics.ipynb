{
 "cells": [
  {
   "attachments": {},
   "cell_type": "markdown",
   "metadata": {},
   "source": [
    "# Keras Basics\n",
    "\n",
    "Keras is an open-source software library that provides a Python interface for artificial neural networks. Keras acts as an interface for the TensorFlow library."
   ]
  },
  {
   "attachments": {},
   "cell_type": "markdown",
   "metadata": {},
   "source": [
    "## Importing "
   ]
  },
  {
   "cell_type": "code",
   "execution_count": 1,
   "metadata": {},
   "outputs": [],
   "source": [
    "import numpy as np"
   ]
  },
  {
   "attachments": {},
   "cell_type": "markdown",
   "metadata": {},
   "source": [
    "## Reading in the Data Set\n",
    "\n",
    "We will use the Bank Authentication Data Set to start off with. This data set consists of various image features derived from images that had 400 x 400 pixels. You should note the data itself that we will be using ARE NOT ACTUAL IMAGES, they are features of images."
   ]
  },
  {
   "cell_type": "code",
   "execution_count": 2,
   "metadata": {},
   "outputs": [
    {
     "data": {
      "text/plain": [
       "array([[  3.6216 ,   8.6661 ,  -2.8073 ,  -0.44699,   0.     ],\n",
       "       [  4.5459 ,   8.1674 ,  -2.4586 ,  -1.4621 ,   0.     ],\n",
       "       [  3.866  ,  -2.6383 ,   1.9242 ,   0.10645,   0.     ],\n",
       "       ...,\n",
       "       [ -3.7503 , -13.4586 ,  17.5932 ,  -2.7771 ,   1.     ],\n",
       "       [ -3.5637 ,  -8.3827 ,  12.393  ,  -1.2823 ,   1.     ],\n",
       "       [ -2.5419 ,  -0.65804,   2.6842 ,   1.1952 ,   1.     ]])"
      ]
     },
     "execution_count": 2,
     "metadata": {},
     "output_type": "execute_result"
    }
   ],
   "source": [
    "data = np.genfromtxt(\"../DATA/bank_note_data.txt\", delimiter=\",\")\n",
    "data"
   ]
  },
  {
   "cell_type": "code",
   "execution_count": 3,
   "metadata": {},
   "outputs": [],
   "source": [
    "X = data[:, 0:4]\n",
    "y = data[:, 4]"
   ]
  },
  {
   "attachments": {},
   "cell_type": "markdown",
   "metadata": {},
   "source": [
    "## Split the Data into Training and Test\n",
    "\n",
    "It's time to split the data into a train/test set. Keep in mind, sometimes people like to split 3 ways, train/test/validation. We'll keep things simple for now."
   ]
  },
  {
   "cell_type": "code",
   "execution_count": 4,
   "metadata": {},
   "outputs": [],
   "source": [
    "from sklearn.model_selection import train_test_split\n",
    "X_train, X_test, y_train, y_test = train_test_split(X, y, test_size=0.33, random_state=42)"
   ]
  },
  {
   "attachments": {},
   "cell_type": "markdown",
   "metadata": {},
   "source": [
    "## Standardizing the Data\n",
    "\n",
    "Usually when using Neural Networks, you will get better performance when you standardize the data. Standardization just means normalizing the values to all fit between a certain range, like 0-1, or -1 to 1."
   ]
  },
  {
   "cell_type": "code",
   "execution_count": 5,
   "metadata": {},
   "outputs": [],
   "source": [
    "from sklearn.preprocessing import MinMaxScaler\n",
    "scaler_object = MinMaxScaler()\n",
    "\n",
    "scaler_object.fit(X_train)\n",
    "scaled_X_train = scaler_object.transform(X_train)\n",
    "scaled_X_test = scaler_object.transform(X_test)"
   ]
  },
  {
   "attachments": {},
   "cell_type": "markdown",
   "metadata": {},
   "source": [
    "## Building the Network with Keras"
   ]
  },
  {
   "attachments": {},
   "cell_type": "markdown",
   "metadata": {},
   "source": [
    "### Import Keras"
   ]
  },
  {
   "cell_type": "code",
   "execution_count": 6,
   "metadata": {},
   "outputs": [],
   "source": [
    "from keras.models import Sequential\n",
    "from keras.layers import Dense"
   ]
  },
  {
   "attachments": {},
   "cell_type": "markdown",
   "metadata": {},
   "source": [
    "### Create the model"
   ]
  },
  {
   "cell_type": "code",
   "execution_count": 7,
   "metadata": {},
   "outputs": [],
   "source": [
    "model = Sequential()\n",
    "\n",
    "model.add(Dense(4, input_dim=4, activation=\"relu\"))\n",
    "model.add(Dense(8, activation=\"relu\"))\n",
    "model.add(Dense(1, activation=\"sigmoid\"))"
   ]
  },
  {
   "attachments": {},
   "cell_type": "markdown",
   "metadata": {},
   "source": [
    "### Compile model"
   ]
  },
  {
   "cell_type": "code",
   "execution_count": 8,
   "metadata": {},
   "outputs": [],
   "source": [
    "model.compile(loss=\"binary_crossentropy\", optimizer=\"adam\", metrics=[\"accuracy\"])"
   ]
  },
  {
   "attachments": {},
   "cell_type": "markdown",
   "metadata": {},
   "source": [
    "### Fit the model"
   ]
  },
  {
   "cell_type": "code",
   "execution_count": 9,
   "metadata": {},
   "outputs": [
    {
     "name": "stdout",
     "output_type": "stream",
     "text": [
      "Epoch 1/50\n"
     ]
    },
    {
     "name": "stderr",
     "output_type": "stream",
     "text": [
      "2023-03-08 13:40:47.998320: W tensorflow/core/platform/profile_utils/cpu_utils.cc:128] Failed to get CPU frequency: 0 Hz\n"
     ]
    },
    {
     "name": "stdout",
     "output_type": "stream",
     "text": [
      "29/29 - 0s - loss: 0.6856 - accuracy: 0.5495 - 411ms/epoch - 14ms/step\n",
      "Epoch 2/50\n",
      "29/29 - 0s - loss: 0.6816 - accuracy: 0.5495 - 16ms/epoch - 551us/step\n",
      "Epoch 3/50\n",
      "29/29 - 0s - loss: 0.6789 - accuracy: 0.5495 - 16ms/epoch - 544us/step\n",
      "Epoch 4/50\n",
      "29/29 - 0s - loss: 0.6760 - accuracy: 0.5495 - 14ms/epoch - 490us/step\n",
      "Epoch 5/50\n",
      "29/29 - 0s - loss: 0.6731 - accuracy: 0.5495 - 14ms/epoch - 490us/step\n",
      "Epoch 6/50\n",
      "29/29 - 0s - loss: 0.6696 - accuracy: 0.5495 - 14ms/epoch - 485us/step\n",
      "Epoch 7/50\n",
      "29/29 - 0s - loss: 0.6659 - accuracy: 0.5495 - 14ms/epoch - 487us/step\n",
      "Epoch 8/50\n",
      "29/29 - 0s - loss: 0.6617 - accuracy: 0.5495 - 14ms/epoch - 496us/step\n",
      "Epoch 9/50\n",
      "29/29 - 0s - loss: 0.6574 - accuracy: 0.5495 - 15ms/epoch - 501us/step\n",
      "Epoch 10/50\n",
      "29/29 - 0s - loss: 0.6524 - accuracy: 0.5495 - 14ms/epoch - 493us/step\n",
      "Epoch 11/50\n",
      "29/29 - 0s - loss: 0.6471 - accuracy: 0.5615 - 15ms/epoch - 505us/step\n",
      "Epoch 12/50\n",
      "29/29 - 0s - loss: 0.6412 - accuracy: 0.5800 - 14ms/epoch - 482us/step\n",
      "Epoch 13/50\n",
      "29/29 - 0s - loss: 0.6348 - accuracy: 0.6246 - 14ms/epoch - 490us/step\n",
      "Epoch 14/50\n",
      "29/29 - 0s - loss: 0.6266 - accuracy: 0.6725 - 14ms/epoch - 490us/step\n",
      "Epoch 15/50\n",
      "29/29 - 0s - loss: 0.6165 - accuracy: 0.6834 - 14ms/epoch - 493us/step\n",
      "Epoch 16/50\n",
      "29/29 - 0s - loss: 0.6066 - accuracy: 0.6823 - 14ms/epoch - 474us/step\n",
      "Epoch 17/50\n",
      "29/29 - 0s - loss: 0.5961 - accuracy: 0.6834 - 14ms/epoch - 480us/step\n",
      "Epoch 18/50\n",
      "29/29 - 0s - loss: 0.5857 - accuracy: 0.6877 - 14ms/epoch - 479us/step\n",
      "Epoch 19/50\n",
      "29/29 - 0s - loss: 0.5753 - accuracy: 0.6921 - 14ms/epoch - 490us/step\n",
      "Epoch 20/50\n",
      "29/29 - 0s - loss: 0.5640 - accuracy: 0.7127 - 14ms/epoch - 484us/step\n",
      "Epoch 21/50\n",
      "29/29 - 0s - loss: 0.5525 - accuracy: 0.7160 - 14ms/epoch - 479us/step\n",
      "Epoch 22/50\n",
      "29/29 - 0s - loss: 0.5402 - accuracy: 0.7388 - 15ms/epoch - 507us/step\n",
      "Epoch 23/50\n",
      "29/29 - 0s - loss: 0.5269 - accuracy: 0.7432 - 16ms/epoch - 538us/step\n",
      "Epoch 24/50\n",
      "29/29 - 0s - loss: 0.5126 - accuracy: 0.7552 - 18ms/epoch - 624us/step\n",
      "Epoch 25/50\n",
      "29/29 - 0s - loss: 0.4981 - accuracy: 0.7661 - 16ms/epoch - 548us/step\n",
      "Epoch 26/50\n",
      "29/29 - 0s - loss: 0.4836 - accuracy: 0.7693 - 17ms/epoch - 602us/step\n",
      "Epoch 27/50\n",
      "29/29 - 0s - loss: 0.4671 - accuracy: 0.7965 - 17ms/epoch - 583us/step\n",
      "Epoch 28/50\n",
      "29/29 - 0s - loss: 0.4497 - accuracy: 0.8107 - 31ms/epoch - 1ms/step\n",
      "Epoch 29/50\n",
      "29/29 - 0s - loss: 0.4322 - accuracy: 0.8237 - 42ms/epoch - 1ms/step\n",
      "Epoch 30/50\n",
      "29/29 - 0s - loss: 0.4149 - accuracy: 0.8477 - 34ms/epoch - 1ms/step\n",
      "Epoch 31/50\n",
      "29/29 - 0s - loss: 0.3973 - accuracy: 0.8727 - 18ms/epoch - 625us/step\n",
      "Epoch 32/50\n",
      "29/29 - 0s - loss: 0.3801 - accuracy: 0.8836 - 16ms/epoch - 557us/step\n",
      "Epoch 33/50\n",
      "29/29 - 0s - loss: 0.3627 - accuracy: 0.8945 - 16ms/epoch - 566us/step\n",
      "Epoch 34/50\n",
      "29/29 - 0s - loss: 0.3440 - accuracy: 0.9129 - 17ms/epoch - 573us/step\n",
      "Epoch 35/50\n",
      "29/29 - 0s - loss: 0.3266 - accuracy: 0.9206 - 18ms/epoch - 618us/step\n",
      "Epoch 36/50\n",
      "29/29 - 0s - loss: 0.3103 - accuracy: 0.9249 - 17ms/epoch - 584us/step\n",
      "Epoch 37/50\n",
      "29/29 - 0s - loss: 0.2934 - accuracy: 0.9369 - 17ms/epoch - 592us/step\n",
      "Epoch 38/50\n",
      "29/29 - 0s - loss: 0.2783 - accuracy: 0.9423 - 16ms/epoch - 536us/step\n",
      "Epoch 39/50\n",
      "29/29 - 0s - loss: 0.2636 - accuracy: 0.9434 - 15ms/epoch - 525us/step\n",
      "Epoch 40/50\n",
      "29/29 - 0s - loss: 0.2498 - accuracy: 0.9445 - 15ms/epoch - 531us/step\n",
      "Epoch 41/50\n",
      "29/29 - 0s - loss: 0.2365 - accuracy: 0.9467 - 15ms/epoch - 510us/step\n",
      "Epoch 42/50\n",
      "29/29 - 0s - loss: 0.2245 - accuracy: 0.9467 - 15ms/epoch - 517us/step\n",
      "Epoch 43/50\n",
      "29/29 - 0s - loss: 0.2137 - accuracy: 0.9532 - 15ms/epoch - 522us/step\n",
      "Epoch 44/50\n",
      "29/29 - 0s - loss: 0.2023 - accuracy: 0.9543 - 16ms/epoch - 547us/step\n",
      "Epoch 45/50\n",
      "29/29 - 0s - loss: 0.1931 - accuracy: 0.9521 - 16ms/epoch - 544us/step\n",
      "Epoch 46/50\n",
      "29/29 - 0s - loss: 0.1839 - accuracy: 0.9565 - 15ms/epoch - 527us/step\n",
      "Epoch 47/50\n",
      "29/29 - 0s - loss: 0.1753 - accuracy: 0.9576 - 17ms/epoch - 590us/step\n",
      "Epoch 48/50\n",
      "29/29 - 0s - loss: 0.1674 - accuracy: 0.9521 - 16ms/epoch - 550us/step\n",
      "Epoch 49/50\n",
      "29/29 - 0s - loss: 0.1604 - accuracy: 0.9554 - 17ms/epoch - 571us/step\n",
      "Epoch 50/50\n",
      "29/29 - 0s - loss: 0.1532 - accuracy: 0.9565 - 17ms/epoch - 576us/step\n"
     ]
    },
    {
     "data": {
      "text/plain": [
       "<keras.callbacks.History at 0x16a782ef0>"
      ]
     },
     "execution_count": 9,
     "metadata": {},
     "output_type": "execute_result"
    }
   ],
   "source": [
    "model.fit(scaled_X_train, y_train, epochs=50, verbose=2)"
   ]
  },
  {
   "attachments": {},
   "cell_type": "markdown",
   "metadata": {},
   "source": [
    "## Evaluating Model Performance"
   ]
  },
  {
   "cell_type": "code",
   "execution_count": 10,
   "metadata": {},
   "outputs": [
    {
     "name": "stdout",
     "output_type": "stream",
     "text": [
      "15/15 [==============================] - 0s 535us/step - loss: 0.1489 - accuracy: 0.9691\n"
     ]
    },
    {
     "data": {
      "text/plain": [
       "[0.14893198013305664, 0.9690949320793152]"
      ]
     },
     "execution_count": 10,
     "metadata": {},
     "output_type": "execute_result"
    }
   ],
   "source": [
    "model.evaluate(x=scaled_X_test, y=y_test)"
   ]
  },
  {
   "cell_type": "code",
   "execution_count": 11,
   "metadata": {},
   "outputs": [
    {
     "name": "stdout",
     "output_type": "stream",
     "text": [
      "15/15 [==============================] - 0s 441us/step\n"
     ]
    },
    {
     "data": {
      "text/plain": [
       "array([[253,   4],\n",
       "       [ 10, 186]])"
      ]
     },
     "execution_count": 11,
     "metadata": {},
     "output_type": "execute_result"
    }
   ],
   "source": [
    "from sklearn.metrics import confusion_matrix,classification_report\n",
    "predictions = (model.predict(scaled_X_test) > 0.5).astype(\"int32\")\n",
    "confusion_matrix(y_test, predictions)"
   ]
  },
  {
   "cell_type": "code",
   "execution_count": 12,
   "metadata": {},
   "outputs": [
    {
     "name": "stdout",
     "output_type": "stream",
     "text": [
      "              precision    recall  f1-score   support\n",
      "\n",
      "         0.0       0.96      0.98      0.97       257\n",
      "         1.0       0.98      0.95      0.96       196\n",
      "\n",
      "    accuracy                           0.97       453\n",
      "   macro avg       0.97      0.97      0.97       453\n",
      "weighted avg       0.97      0.97      0.97       453\n",
      "\n"
     ]
    }
   ],
   "source": [
    "print(classification_report(y_test, predictions))"
   ]
  },
  {
   "attachments": {},
   "cell_type": "markdown",
   "metadata": {},
   "source": [
    "## Saving and Loading Models"
   ]
  },
  {
   "cell_type": "code",
   "execution_count": 13,
   "metadata": {},
   "outputs": [],
   "source": [
    "model.save('myfirstmodel.h5')"
   ]
  }
 ],
 "metadata": {
  "kernelspec": {
   "display_name": "base",
   "language": "python",
   "name": "python3"
  },
  "language_info": {
   "codemirror_mode": {
    "name": "ipython",
    "version": 3
   },
   "file_extension": ".py",
   "mimetype": "text/x-python",
   "name": "python",
   "nbconvert_exporter": "python",
   "pygments_lexer": "ipython3",
   "version": "3.10.9"
  },
  "orig_nbformat": 4,
  "vscode": {
   "interpreter": {
    "hash": "f8f2de12006af2ac372197d752de4a70b5f29165a2e6348bb37f21372b77abf2"
   }
  }
 },
 "nbformat": 4,
 "nbformat_minor": 2
}
